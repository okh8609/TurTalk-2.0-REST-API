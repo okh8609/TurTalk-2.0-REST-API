{
 "cells": [
  {
   "cell_type": "code",
   "execution_count": null,
   "metadata": {
    "scrolled": true
   },
   "outputs": [],
   "source": [
    "# Just A Request Example...\n",
    "# Not Have Any Functions...\n",
    "import requests\n",
    "import json\n",
    "url = 'http://localhost:49982/api/account/reg'\n",
    "headers = {'Content-type': 'application/json'}\n",
    "\n",
    "response = requests.post(url, data='5555', headers=headers)\n",
    "print(response.text)"
   ]
  },
  {
   "cell_type": "code",
   "execution_count": null,
   "metadata": {},
   "outputs": [],
   "source": [
    "#測試註冊\n",
    "import requests\n",
    "import json\n",
    "url = 'http://localhost:49982/api/account/reg'\n",
    "headers = {'Content-type': 'application/json'}\n",
    "\n",
    "data = { 'email' : \"okh8609@gmail.com\" , 'password' : '123456789' , 'name' : 'kaihao'}\n",
    "data_json = json.dumps(data)\n",
    "\n",
    "response = requests.post(url, data=data_json, headers=headers)\n",
    "print(response.text)"
   ]
  },
  {
   "cell_type": "code",
   "execution_count": null,
   "metadata": {
    "scrolled": true
   },
   "outputs": [],
   "source": [
    "#測試登入\n",
    "import requests\n",
    "import json\n",
    "url = 'http://localhost:49982/api/account/login'\n",
    "headers = {'Content-type': 'application/json'}\n",
    "\n",
    "data = { 'email' : \"okh8609@gmail.com\" , 'password' : '123456789'}\n",
    "data_json = json.dumps(data)\n",
    "\n",
    "response = requests.post(url, data=data_json, headers=headers)\n",
    "print(response.text)\n",
    "\n",
    "\n",
    "key = json.loads(response.text)[\"Payload\"]\n",
    "print(key)"
   ]
  },
  {
   "cell_type": "code",
   "execution_count": null,
   "metadata": {},
   "outputs": [],
   "source": [
    "#測試權限\n",
    "import requests\n",
    "import json\n",
    "\n",
    "url = 'http://localhost:49982/api/account/test'\n",
    "hhh = {'Authorization': ('Bearer '+ key).encode('utf-8')}\n",
    "\n",
    "response = requests.get(url, headers = hhh)\n",
    "\n",
    "print(response.text)"
   ]
  },
  {
   "cell_type": "code",
   "execution_count": null,
   "metadata": {},
   "outputs": [],
   "source": [
    "#測試加入聯絡人\n",
    "\n",
    "import requests\n",
    "import json\n",
    "url = 'http://localhost:49982/api/contacts/add'\n",
    "headers = {'Authorization': ('Bearer '+ key).encode('utf-8'), 'Content-type': 'application/json'}\n",
    "\n",
    "data = { 'uid' : 14}\n",
    "data_json = json.dumps(data)\n",
    "\n",
    "response = requests.post(url, data='14', headers = headers)\n",
    "print(response.text)"
   ]
  },
  {
   "cell_type": "code",
   "execution_count": null,
   "metadata": {},
   "outputs": [],
   "source": [
    "#測試刪除聯絡人\n",
    "\n",
    "import requests\n",
    "import json\n",
    "url = 'http://localhost:49982/api/contacts/del'\n",
    "headers = {'Authorization': ('Bearer '+ key).encode('utf-8'), 'Content-type': 'application/json'}\n",
    "\n",
    "\n",
    "response = requests.post(url, data='14', headers = headers)\n",
    "print(response.text)"
   ]
  },
  {
   "cell_type": "code",
   "execution_count": null,
   "metadata": {},
   "outputs": [],
   "source": [
    "#列出聯絡人\n",
    "\n",
    "import requests\n",
    "import json\n",
    "url = 'http://localhost:49982/api/contacts/list'\n",
    "headers = {'Authorization': ('Bearer '+ key).encode('utf-8'), 'Content-type': 'application/json'}\n",
    "\n",
    "response = requests.get(url, headers = headers)\n",
    "print(response.text)"
   ]
  },
  {
   "cell_type": "code",
   "execution_count": null,
   "metadata": {},
   "outputs": [],
   "source": [
    "#搜尋使用者\n",
    "\n",
    "import requests\n",
    "import json\n",
    "url = 'http://localhost:49982/api/contacts/search/1'\n",
    "headers = {'Authorization': ('Bearer '+ key).encode('utf-8'), 'Content-type': 'application/json'}\n",
    "\n",
    "response = requests.get(url, headers = headers)\n",
    "print(response.text)"
   ]
  },
  {
   "cell_type": "code",
   "execution_count": null,
   "metadata": {},
   "outputs": [],
   "source": [
    "#送出聊天訊息\n",
    "\n",
    "import requests\n",
    "import json\n",
    "url = 'http://localhost:49982/api/chat/send'\n",
    "headers = {'Authorization': ('Bearer '+ key).encode('utf-8'), 'Content-type': 'application/json'}\n",
    "\n",
    "data = { 'uid' : \"21\" , 'message' : 'qweqwrewrwe'}\n",
    "data_json = json.dumps(data)\n",
    "\n",
    "response = requests.post(url, data=data_json, headers=headers)\n",
    "print(response.text)"
   ]
  },
  {
   "cell_type": "code",
   "execution_count": null,
   "metadata": {},
   "outputs": [],
   "source": [
    "#接收聊天訊息\n",
    "\n",
    "import requests\n",
    "import json\n",
    "url = 'http://localhost:49982/api/chat/receive'\n",
    "headers = {'Authorization': ('Bearer '+ key).encode('utf-8'), 'Content-type': 'application/json'}\n",
    "\n",
    "data = { 'uid' : \"20\" , 'start' : '2019-04-27T23:16:24.264'}\n",
    "data_json = json.dumps(data)\n",
    "\n",
    "response = requests.post(url, data=data_json, headers=headers)\n",
    "print(response.text)"
   ]
  },
  {
   "cell_type": "code",
   "execution_count": null,
   "metadata": {},
   "outputs": [],
   "source": [
    "#送出限時聊天訊息\n",
    "\n",
    "import requests\n",
    "import json\n",
    "import string\n",
    "url = 'http://localhost:49982/api/chat2/send'\n",
    "headers = {'Authorization': ('Bearer '+ key).encode('utf-8'), 'Content-type': 'application/json'}\n",
    "\n",
    "data = { 'uid' : \"21\" ,\n",
    "         'message' : \"\".join(random.sample('abcdefghijklmnopqrstuvwxyz1234567890',35)),  \n",
    "         \"eff_period\": \"00:00:15.88\" }\n",
    "\n",
    "data_json = json.dumps(data)\n",
    "\n",
    "response = requests.post(url, data=data_json, headers=headers)\n",
    "print(response.text)"
   ]
  },
  {
   "cell_type": "code",
   "execution_count": null,
   "metadata": {},
   "outputs": [],
   "source": [
    "#接收限時聊天訊息\n",
    "\n",
    "import requests\n",
    "import json\n",
    "url = 'http://localhost:49982/api/chat2/receive'\n",
    "headers = {'Authorization': ('Bearer '+ key).encode('utf-8'), 'Content-type': 'application/json'}\n",
    "\n",
    "data = { 'uid' : \"20\" , 'start' : '2019-04-28T14:26:06.510'}\n",
    "data_json = json.dumps(data)\n",
    "\n",
    "response = requests.post(url, data=data_json, headers=headers)\n",
    "print(response.text)"
   ]
  },
  {
   "cell_type": "code",
   "execution_count": null,
   "metadata": {},
   "outputs": [],
   "source": [
    "# 清除過期的聊天訊息\n",
    "# 應由伺服器端排程去呼叫\n",
    "# APP端則需自行刪除過期訊息\n",
    "\n",
    "import requests\n",
    "import json\n",
    "url = 'http://localhost:49982/api/chat2/clear'\n",
    "headers = {'Content-type': 'application/json'}\n",
    "\n",
    "response = requests.get(url, headers=headers)\n",
    "print(response.text)"
   ]
  },
  {
   "cell_type": "code",
   "execution_count": null,
   "metadata": {},
   "outputs": [],
   "source": [
    "#測試獲得臨時帳號\n",
    "import requests\n",
    "import json\n",
    "\n",
    "url = 'http://localhost:49982/api/invite/getacc'\n",
    "hhh = {'Authorization': ('Bearer '+ key).encode('utf-8')}\n",
    "\n",
    "response = requests.get(url, headers = hhh)\n",
    "\n",
    "print(response.text)\n",
    "\n",
    "uuu = json.loads(response.text)[\"uid\"]\n",
    "ppp = json.loads(response.text)[\"pwd\"]"
   ]
  },
  {
   "cell_type": "code",
   "execution_count": null,
   "metadata": {},
   "outputs": [],
   "source": [
    "#測試登入\n",
    "import requests\n",
    "import json\n",
    "url = 'http://localhost:49982/api/invite/login'\n",
    "headers = {'Content-type': 'application/json'}\n",
    "\n",
    "data = { 'uid' : '30' , 'pwd' : '5k8QTI3d'}\n",
    "data_json = json.dumps(data)\n",
    "\n",
    "response = requests.post(url, data=data_json, headers=headers)\n",
    "print(response.text)\n",
    "key = json.loads(response.text)[\"Payload\"]"
   ]
  },
  {
   "cell_type": "code",
   "execution_count": null,
   "metadata": {},
   "outputs": [],
   "source": [
    "#測試權限2\n",
    "#這裡沒有分使用者角色\n",
    "import requests\n",
    "import json\n",
    "\n",
    "url = 'http://localhost:49982/api/account/test'\n",
    "hhh = {'Authorization': ('Bearer '+ key).encode('utf-8')}\n",
    "\n",
    "response = requests.get(url, headers = hhh)\n",
    "\n",
    "print(response.text)"
   ]
  },
  {
   "cell_type": "code",
   "execution_count": null,
   "metadata": {},
   "outputs": [],
   "source": []
  }
 ],
 "metadata": {
  "kernelspec": {
   "display_name": "Python 3",
   "language": "python",
   "name": "python3"
  },
  "language_info": {
   "codemirror_mode": {
    "name": "ipython",
    "version": 3
   },
   "file_extension": ".py",
   "mimetype": "text/x-python",
   "name": "python",
   "nbconvert_exporter": "python",
   "pygments_lexer": "ipython3",
   "version": "3.6.7"
  }
 },
 "nbformat": 4,
 "nbformat_minor": 2
}
