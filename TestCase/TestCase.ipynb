{
 "cells": [
  {
   "cell_type": "code",
   "execution_count": 37,
   "metadata": {},
   "outputs": [
    {
     "name": "stdout",
     "output_type": "stream",
     "text": [
      "{\"Message\":\"發生錯誤。\",\"ExceptionMessage\":\"非靜態方法需要目標。\",\"ExceptionType\":\"System.Reflection.TargetException\",\"StackTrace\":\"   於 System.Reflection.RuntimeMethodInfo.CheckConsistency(Object target)\\r\\n   於 System.Reflection.RuntimeMethodInfo.InvokeArgumentsCheck(Object obj, BindingFlags invokeAttr, Binder binder, Object[] parameters, CultureInfo culture)\\r\\n   於 System.Reflection.RuntimeMethodInfo.Invoke(Object obj, BindingFlags invokeAttr, Binder binder, Object[] parameters, CultureInfo culture)\\r\\n   於 System.Reflection.RuntimePropertyInfo.GetValue(Object obj, BindingFlags invokeAttr, Binder binder, Object[] index, CultureInfo culture)\\r\\n   於 System.Reflection.RuntimePropertyInfo.GetValue(Object obj, Object[] index)\\r\\n   於 System.Data.Entity.Core.Objects.ELinq.QueryParameterExpression.TryGetFieldOrPropertyValue(MemberExpression me, Object instance, Object& memberValue)\\r\\n   於 System.Data.Entity.Core.Objects.ELinq.QueryParameterExpression.TryEvaluatePath(Expression expression, ConstantExpression& constantExpression)\\r\\n   於 System.Data.Entity.Core.Objects.ELinq.QueryParameterExpression.EvaluateParameter(Object[] arguments)\\r\\n   於 System.Data.Entity.Core.Objects.ELinq.ELinqQueryState.GetExecutionPlan(Nullable`1 forMergeOption)\\r\\n   於 System.Data.Entity.Core.Objects.ObjectQuery`1.<>c__DisplayClass7.<GetResults>b__6()\\r\\n   於 System.Data.Entity.Core.Objects.ObjectContext.ExecuteInTransaction[T](Func`1 func, IDbExecutionStrategy executionStrategy, Boolean startLocalTransaction, Boolean releaseConnectionOnSuccess)\\r\\n   於 System.Data.Entity.Core.Objects.ObjectQuery`1.<>c__DisplayClass7.<GetResults>b__5()\\r\\n   於 System.Data.Entity.SqlServer.DefaultSqlExecutionStrategy.Execute[TResult](Func`1 operation)\\r\\n   於 System.Data.Entity.Core.Objects.ObjectQuery`1.GetResults(Nullable`1 forMergeOption)\\r\\n   於 System.Data.Entity.Core.Objects.ObjectQuery`1.<System.Collections.Generic.IEnumerable<T>.GetEnumerator>b__0()\\r\\n   於 System.Data.Entity.Internal.LazyEnumerator`1.MoveNext()\\r\\n   於 System.Collections.Generic.List`1..ctor(IEnumerable`1 collection)\\r\\n   於 System.Linq.Enumerable.ToList[TSource](IEnumerable`1 source)\\r\\n   於 TT2_API.Controllers.AccountController.Register(AccountRegData regData) 於 C:\\\\Users\\\\KaiHao\\\\Desktop\\\\TT2_API\\\\TT2_API\\\\Controllers\\\\AccountController.cs: 行 52\\r\\n   於 lambda_method(Closure , Object , Object[] )\\r\\n   於 System.Web.Http.Controllers.ReflectedHttpActionDescriptor.ActionExecutor.<>c__DisplayClass6_1.<GetExecutor>b__3(Object instance, Object[] methodParameters)\\r\\n   於 System.Web.Http.Controllers.ReflectedHttpActionDescriptor.ActionExecutor.Execute(Object instance, Object[] arguments)\\r\\n   於 System.Web.Http.Controllers.ReflectedHttpActionDescriptor.ExecuteAsync(HttpControllerContext controllerContext, IDictionary`2 arguments, CancellationToken cancellationToken)\\r\\n--- 先前擲回例外狀況之位置中的堆疊追蹤結尾 ---\\r\\n   於 System.Runtime.CompilerServices.TaskAwaiter.ThrowForNonSuccess(Task task)\\r\\n   於 System.Runtime.CompilerServices.TaskAwaiter.HandleNonSuccessAndDebuggerNotification(Task task)\\r\\n   於 System.Web.Http.Controllers.ApiControllerActionInvoker.<InvokeActionAsyncCore>d__1.MoveNext()\\r\\n--- 先前擲回例外狀況之位置中的堆疊追蹤結尾 ---\\r\\n   於 System.Runtime.CompilerServices.TaskAwaiter.ThrowForNonSuccess(Task task)\\r\\n   於 System.Runtime.CompilerServices.TaskAwaiter.HandleNonSuccessAndDebuggerNotification(Task task)\\r\\n   於 System.Web.Http.Controllers.ActionFilterResult.<ExecuteAsync>d__5.MoveNext()\\r\\n--- 先前擲回例外狀況之位置中的堆疊追蹤結尾 ---\\r\\n   於 System.Runtime.CompilerServices.TaskAwaiter.ThrowForNonSuccess(Task task)\\r\\n   於 System.Runtime.CompilerServices.TaskAwaiter.HandleNonSuccessAndDebuggerNotification(Task task)\\r\\n   於 System.Web.Http.Dispatcher.HttpControllerDispatcher.<SendAsync>d__15.MoveNext()\"}\n"
     ]
    }
   ],
   "source": [
    "import requests\n",
    "import json\n",
    "url = 'http://localhost:49982/api/account/reg'\n",
    "headers = {'Content-type': 'application/json'}\n",
    "\n",
    "response = requests.post(url, data='5555', headers=headers)\n",
    "print(response.text)"
   ]
  },
  {
   "cell_type": "code",
   "execution_count": 4,
   "metadata": {},
   "outputs": [
    {
     "name": "stdout",
     "output_type": "stream",
     "text": [
      "true\n"
     ]
    }
   ],
   "source": [
    "#測試註冊\n",
    "import requests\n",
    "import json\n",
    "url = 'http://localhost:49982/api/account/reg'\n",
    "headers = {'Content-type': 'application/json'}\n",
    "\n",
    "data = { 'email' : \"okh8609@gmail.com\" , 'password' : '123456789' , 'name' : 'kaihao'}\n",
    "data_json = json.dumps(data)\n",
    "\n",
    "response = requests.post(url, data=data_json, headers=headers)\n",
    "print(response.text)"
   ]
  },
  {
   "cell_type": "code",
   "execution_count": 5,
   "metadata": {
    "scrolled": true
   },
   "outputs": [
    {
     "name": "stdout",
     "output_type": "stream",
     "text": [
      "{\"Success\":false,\"Message\":\"\",\"Payload\":\"帳號尚未通過電子郵件驗證\"}\n",
      "帳號尚未通過電子郵件驗證\n"
     ]
    }
   ],
   "source": [
    "#測試登入\n",
    "import requests\n",
    "import json\n",
    "url = 'http://localhost:49982/api/account/login'\n",
    "headers = {'Content-type': 'application/json'}\n",
    "\n",
    "data = { 'email' : \"okh8609@gmail.com\" , 'password' : '123456789'}\n",
    "data_json = json.dumps(data)\n",
    "\n",
    "response = requests.post(url, data=data_json, headers=headers)\n",
    "print(response.text)\n",
    "\n",
    "\n",
    "key = json.loads(response.text)[\"Payload\"]\n",
    "print(key)"
   ]
  },
  {
   "cell_type": "code",
   "execution_count": 8,
   "metadata": {},
   "outputs": [
    {
     "name": "stdout",
     "output_type": "stream",
     "text": [
      "{\"Success\":true,\"Message\":\"授權使用者uid為= 22\",\"Payload\":[\"有提供存取權杖!!\",\"有提供存取權杖~~\"]}\n"
     ]
    }
   ],
   "source": [
    "#測試權限\n",
    "import requests\n",
    "import json\n",
    "\n",
    "url = 'http://localhost:49982/api/account/test'\n",
    "hhh = {'Authorization': ('Bearer '+ key).encode('utf-8')}\n",
    "\n",
    "response = requests.get(url, headers = hhh)\n",
    "\n",
    "print(response.text)"
   ]
  },
  {
   "cell_type": "code",
   "execution_count": 313,
   "metadata": {},
   "outputs": [
    {
     "name": "stdout",
     "output_type": "stream",
     "text": [
      "true\n"
     ]
    }
   ],
   "source": [
    "#測試加入聯絡人\n",
    "\n",
    "import requests\n",
    "import json\n",
    "url = 'http://localhost:49982/api/contacts/add'\n",
    "headers = {'Authorization': ('Bearer '+ key).encode('utf-8'), 'Content-type': 'application/json'}\n",
    "\n",
    "data = { 'uid' : 14}\n",
    "data_json = json.dumps(data)\n",
    "\n",
    "response = requests.post(url, data='14', headers = headers)\n",
    "print(response.text)"
   ]
  },
  {
   "cell_type": "code",
   "execution_count": 311,
   "metadata": {},
   "outputs": [
    {
     "name": "stdout",
     "output_type": "stream",
     "text": [
      "false\n"
     ]
    }
   ],
   "source": [
    "#測試刪除聯絡人\n",
    "\n",
    "import requests\n",
    "import json\n",
    "url = 'http://localhost:49982/api/contacts/del'\n",
    "headers = {'Authorization': ('Bearer '+ key).encode('utf-8'), 'Content-type': 'application/json'}\n",
    "\n",
    "\n",
    "response = requests.post(url, data='14', headers = headers)\n",
    "print(response.text)"
   ]
  },
  {
   "cell_type": "code",
   "execution_count": 314,
   "metadata": {},
   "outputs": [
    {
     "name": "stdout",
     "output_type": "stream",
     "text": [
      "[{\"uid\":5,\"name\":\"555555\",\"email\":\"5@55555\"},{\"uid\":6,\"name\":\"666666\",\"email\":\"6@66666\"},{\"uid\":7,\"name\":\"777777\",\"email\":\"7@777777\"}]\n"
     ]
    }
   ],
   "source": [
    "#列出聯絡人\n",
    "\n",
    "import requests\n",
    "import json\n",
    "url = 'http://localhost:49982/api/contacts/list'\n",
    "headers = {'Authorization': ('Bearer '+ key).encode('utf-8'), 'Content-type': 'application/json'}\n",
    "\n",
    "response = requests.get(url, headers = headers)\n",
    "print(response.text)"
   ]
  },
  {
   "cell_type": "code",
   "execution_count": 49,
   "metadata": {},
   "outputs": [
    {
     "name": "stdout",
     "output_type": "stream",
     "text": [
      "[{\"uid\":10,\"name\":\"101010\",\"email\":\"10@111101\"}]\n"
     ]
    }
   ],
   "source": [
    "#搜尋使用者\n",
    "\n",
    "import requests\n",
    "import json\n",
    "url = 'http://localhost:49982/api/contacts/search/1'\n",
    "headers = {'Authorization': ('Bearer '+ key).encode('utf-8'), 'Content-type': 'application/json'}\n",
    "\n",
    "response = requests.get(url, headers = headers)\n",
    "print(response.text)"
   ]
  },
  {
   "cell_type": "code",
   "execution_count": 431,
   "metadata": {},
   "outputs": [
    {
     "name": "stdout",
     "output_type": "stream",
     "text": [
      "true\n"
     ]
    }
   ],
   "source": [
    "#送出聊天訊息\n",
    "\n",
    "import requests\n",
    "import json\n",
    "url = 'http://localhost:49982/api/chat/send'\n",
    "headers = {'Authorization': ('Bearer '+ key).encode('utf-8'), 'Content-type': 'application/json'}\n",
    "\n",
    "data = { 'uid' : \"21\" , 'message' : 'qweqwrewrwe'}\n",
    "data_json = json.dumps(data)\n",
    "\n",
    "response = requests.post(url, data=data_json, headers=headers)\n",
    "print(response.text)"
   ]
  },
  {
   "cell_type": "code",
   "execution_count": 387,
   "metadata": {},
   "outputs": [
    {
     "name": "stdout",
     "output_type": "stream",
     "text": [
      "[{\"time\":\"2019-04-28T23:06:23.263\",\"message\":\"qqqqqqqq\"},{\"time\":\"2019-04-28T23:16:23.263\",\"message\":\"wwwww\"},{\"time\":\"2019-04-28T23:17:14.567\",\"message\":\"qweqwrewrwe\"},{\"time\":\"2019-04-29T23:06:23.263\",\"message\":\"qweqwrewrwe\"}]\n"
     ]
    }
   ],
   "source": [
    "#接收聊天訊息\n",
    "\n",
    "import requests\n",
    "import json\n",
    "url = 'http://localhost:49982/api/chat/receive'\n",
    "headers = {'Authorization': ('Bearer '+ key).encode('utf-8'), 'Content-type': 'application/json'}\n",
    "\n",
    "data = { 'uid' : \"20\" , 'start' : '2019-04-27T23:16:24.264'}\n",
    "data_json = json.dumps(data)\n",
    "\n",
    "response = requests.post(url, data=data_json, headers=headers)\n",
    "print(response.text)"
   ]
  },
  {
   "cell_type": "code",
   "execution_count": 519,
   "metadata": {},
   "outputs": [
    {
     "name": "stdout",
     "output_type": "stream",
     "text": [
      "true\n"
     ]
    }
   ],
   "source": [
    "#送出限時聊天訊息\n",
    "\n",
    "import requests\n",
    "import json\n",
    "import string\n",
    "url = 'http://localhost:49982/api/chat2/send'\n",
    "headers = {'Authorization': ('Bearer '+ key).encode('utf-8'), 'Content-type': 'application/json'}\n",
    "\n",
    "data = { 'uid' : \"21\" ,\n",
    "         'message' : \"\".join(random.sample('abcdefghijklmnopqrstuvwxyz1234567890',35)),  \n",
    "         \"eff_period\": \"00:00:15.88\" }\n",
    "\n",
    "data_json = json.dumps(data)\n",
    "\n",
    "response = requests.post(url, data=data_json, headers=headers)\n",
    "print(response.text)"
   ]
  },
  {
   "cell_type": "code",
   "execution_count": 396,
   "metadata": {},
   "outputs": [
    {
     "name": "stdout",
     "output_type": "stream",
     "text": [
      "[{\"time\":\"2019-04-29T14:26:04.867\",\"message\":\"fzjkuc82rahonds\"},{\"time\":\"2019-04-29T14:26:06.07\",\"message\":\"5en9f0xcjwq2msy\"},{\"time\":\"2019-04-29T14:26:06.257\",\"message\":\"u64lh0537gawf2e\"},{\"time\":\"2019-04-29T14:26:06.367\",\"message\":\"6ci4pkb3fmn0g2h\"},{\"time\":\"2019-04-29T14:26:06.517\",\"message\":\"zf4rw2meqb9a58d\"},{\"time\":\"2019-04-29T14:26:06.673\",\"message\":\"mf2v7on1t9bas8h\"},{\"time\":\"2019-04-29T14:26:06.833\",\"message\":\"knqgm7zeh20flr4\"},{\"time\":\"2019-04-29T14:26:06.98\",\"message\":\"i56csgyv3ft7ure\"},{\"time\":\"2019-04-29T14:26:07.15\",\"message\":\"kslurpe9b06ca7j\"},{\"time\":\"2019-04-29T14:26:07.287\",\"message\":\"s6lvpz7t92reafq\"},{\"time\":\"2019-04-29T14:26:07.437\",\"message\":\"dm95tq0sekjifzh\"},{\"time\":\"2019-04-29T14:26:07.6\",\"message\":\"q4f8dbovj69n1ai\"},{\"time\":\"2019-04-29T14:26:07.743\",\"message\":\"5yipfzbwja2x0qt\"}]\n"
     ]
    }
   ],
   "source": [
    "#接收限時聊天訊息\n",
    "\n",
    "import requests\n",
    "import json\n",
    "url = 'http://localhost:49982/api/chat2/receive'\n",
    "headers = {'Authorization': ('Bearer '+ key).encode('utf-8'), 'Content-type': 'application/json'}\n",
    "\n",
    "data = { 'uid' : \"20\" , 'start' : '2019-04-28T14:26:06.510'}\n",
    "data_json = json.dumps(data)\n",
    "\n",
    "response = requests.post(url, data=data_json, headers=headers)\n",
    "print(response.text)"
   ]
  },
  {
   "cell_type": "code",
   "execution_count": 520,
   "metadata": {},
   "outputs": [
    {
     "name": "stdout",
     "output_type": "stream",
     "text": [
      "8\n"
     ]
    }
   ],
   "source": [
    "# 清除過期的聊天訊息\n",
    "# 應由伺服器端排程去呼叫\n",
    "# APP端則需自行刪除過期訊息\n",
    "\n",
    "import requests\n",
    "import json\n",
    "url = 'http://localhost:49982/api/chat2/clear'\n",
    "headers = {'Content-type': 'application/json'}\n",
    "\n",
    "response = requests.get(url, headers=headers)\n",
    "print(response.text)"
   ]
  },
  {
   "cell_type": "code",
   "execution_count": 3,
   "metadata": {},
   "outputs": [
    {
     "name": "stdout",
     "output_type": "stream",
     "text": [
      "{\"uid\":30,\"pwd\":\"5k8QTI3d\"}\n"
     ]
    }
   ],
   "source": [
    "#測試獲得臨時帳號\n",
    "import requests\n",
    "import json\n",
    "\n",
    "url = 'http://localhost:49982/api/invite/getacc'\n",
    "hhh = {'Authorization': ('Bearer '+ key).encode('utf-8')}\n",
    "\n",
    "response = requests.get(url, headers = hhh)\n",
    "\n",
    "print(response.text)\n",
    "\n",
    "uuu = json.loads(response.text)[\"uid\"]\n",
    "ppp = json.loads(response.text)[\"pwd\"]"
   ]
  },
  {
   "cell_type": "code",
   "execution_count": 36,
   "metadata": {},
   "outputs": [
    {
     "name": "stdout",
     "output_type": "stream",
     "text": [
      "{\"Success\":false,\"Message\":\"\",\"Payload\":\"臨時帳號10分鐘內有效\"}\n"
     ]
    }
   ],
   "source": [
    "#測試登入\n",
    "import requests\n",
    "import json\n",
    "url = 'http://localhost:49982/api/invite/login'\n",
    "headers = {'Content-type': 'application/json'}\n",
    "\n",
    "data = { 'uid' : '30' , 'pwd' : '5k8QTI3d'}\n",
    "data_json = json.dumps(data)\n",
    "\n",
    "response = requests.post(url, data=data_json, headers=headers)\n",
    "print(response.text)\n",
    "key = json.loads(response.text)[\"Payload\"]"
   ]
  },
  {
   "cell_type": "code",
   "execution_count": 7,
   "metadata": {},
   "outputs": [
    {
     "name": "stdout",
     "output_type": "stream",
     "text": [
      "{\"Success\":true,\"Message\":\"授權使用者uid為= 30\",\"Payload\":[\"有提供存取權杖!!\",\"有提供存取權杖~~\"]}\n"
     ]
    }
   ],
   "source": [
    "#測試權限2\n",
    "#這裡沒有分使用者角色\n",
    "import requests\n",
    "import json\n",
    "\n",
    "url = 'http://localhost:49982/api/account/test'\n",
    "hhh = {'Authorization': ('Bearer '+ key).encode('utf-8')}\n",
    "\n",
    "response = requests.get(url, headers = hhh)\n",
    "\n",
    "print(response.text)"
   ]
  },
  {
   "cell_type": "code",
   "execution_count": null,
   "metadata": {},
   "outputs": [],
   "source": []
  }
 ],
 "metadata": {
  "kernelspec": {
   "display_name": "Python 3",
   "language": "python",
   "name": "python3"
  },
  "language_info": {
   "codemirror_mode": {
    "name": "ipython",
    "version": 3
   },
   "file_extension": ".py",
   "mimetype": "text/x-python",
   "name": "python",
   "nbconvert_exporter": "python",
   "pygments_lexer": "ipython3",
   "version": "3.6.7"
  }
 },
 "nbformat": 4,
 "nbformat_minor": 2
}
